{
  "nbformat": 4,
  "nbformat_minor": 0,
  "metadata": {
    "colab": {
      "name": "APPLE.ipynb",
      "private_outputs": true,
      "provenance": [],
      "collapsed_sections": []
    },
    "kernelspec": {
      "name": "python3",
      "display_name": "Python 3"
    },
    "language_info": {
      "name": "python"
    },
    "accelerator": "GPU"
  },
  "cells": [
    {
      "cell_type": "markdown",
      "metadata": {
        "id": "xNGI1YWNWS53"
      },
      "source": [
        "##Importing libraries and packages"
      ]
    },
    {
      "cell_type": "code",
      "metadata": {
        "id": "cLKfA506flO3"
      },
      "source": [
        "import cv2                 # working with, mainly resizing, images\n",
        "import numpy as np         # dealing with arrays\n",
        "import os                  # dealing with directories\n",
        "from random import shuffle # mixing up or currently ordered data that might lead our network astray in training.\n",
        "from tqdm import tqdm      # Faster iteration\n",
        "import matplotlib.pyplot as plt\n",
        "%matplotlib inline\n",
        "import tensorflow as tf\n",
        "import keras\n",
        "TRAIN_DIR = 'drive/MyDrive/Colab Notebooks/OurData/train'\n",
        "TEST_DIR = 'drive/MyDrive/Colab Notebooks/OurData/test'\n",
        "IMG_SIZE = 100\n",
        "LR = 1e-3\n",
        "\n",
        "MODEL_NAME = 'ripeVSunripe-{}-{}.model'.format(LR, '2conv-basic') "
      ],
      "execution_count": null,
      "outputs": []
    },
    {
      "cell_type": "markdown",
      "metadata": {
        "id": "lILU7tMGGyyY"
      },
      "source": [
        "##Converting labels to 1 for ripe & 0 for unripe"
      ]
    },
    {
      "cell_type": "code",
      "metadata": {
        "id": "PllOGfBaURkb"
      },
      "source": [
        "def label_img(img):\n",
        "    word_label = img.split(' ')[0]\n",
        "    # conversion to one-hot array [Ripe,Unripe]\n",
        "    #                            [very Ripe, almost Unripe]\n",
        "    if word_label == 'Ripe': return 1\n",
        "    #                             [almost Ripe, very Unripe]\n",
        "    elif word_label == 'Unripe': return 0"
      ],
      "execution_count": null,
      "outputs": []
    },
    {
      "cell_type": "markdown",
      "metadata": {
        "id": "qmPKtmo4HBFG"
      },
      "source": [
        "##Converting train images to feature and label "
      ]
    },
    {
      "cell_type": "code",
      "metadata": {
        "id": "sfjSIBnSYsdx"
      },
      "source": [
        "def create_train_data():\n",
        "    training_data = []\n",
        "    for img in tqdm(os.listdir(TRAIN_DIR)):\n",
        "        label = label_img(img)\n",
        "        path = os.path.join(TRAIN_DIR,img)\n",
        "        img = cv2.imread(path)\n",
        "        img = cv2.resize(img, (IMG_SIZE,IMG_SIZE))\n",
        "        training_data.append([np.array(img),np.array(label)])\n",
        "    shuffle(training_data)\n",
        "    np.save('train_data.npy', training_data)\n",
        "    return training_data"
      ],
      "execution_count": null,
      "outputs": []
    },
    {
      "cell_type": "code",
      "metadata": {
        "id": "fgi08MCygvp3"
      },
      "source": [
        "train_data = create_train_data()"
      ],
      "execution_count": null,
      "outputs": []
    },
    {
      "cell_type": "markdown",
      "metadata": {
        "id": "rin7RA_YHQp1"
      },
      "source": [
        "##Make matplot understand cv2 for trainelements"
      ]
    },
    {
      "cell_type": "code",
      "metadata": {
        "id": "EFxqCsW4_0Xd"
      },
      "source": [
        "Trainf=[]\n",
        "TrainfM=[]\n",
        "trainl=[]\n",
        "for i in range(len(train_data)):\n",
        "  Trainf.append(train_data[i][0])\n",
        "  TrainfM.append(cv2.cvtColor(Trainf[i], cv2.COLOR_BGR2RGB))\n",
        "  trainl.append(train_data[i][1])"
      ],
      "execution_count": null,
      "outputs": []
    },
    {
      "cell_type": "markdown",
      "metadata": {
        "id": "8G39WCddHcH1"
      },
      "source": [
        "##Converting test images to feature and label"
      ]
    },
    {
      "cell_type": "code",
      "metadata": {
        "id": "IUDhbRS0lCIb"
      },
      "source": [
        "def process_test_data():\n",
        "    testing_data = []\n",
        "    for img in tqdm(os.listdir(TEST_DIR)):\n",
        "        path = os.path.join(TEST_DIR,img)\n",
        "        img_num = img.split('.')[0]\n",
        "        img = cv2.imread(path)\n",
        "        img = cv2.resize(img, (IMG_SIZE,IMG_SIZE))\n",
        "        testing_data.append([np.array(img), img_num])\n",
        "    shuffle(testing_data)\n",
        "    np.save('test_data.npy', testing_data)\n",
        "    return testing_data\n",
        "    "
      ],
      "execution_count": null,
      "outputs": []
    },
    {
      "cell_type": "code",
      "metadata": {
        "id": "rx5jwFPj5YtE"
      },
      "source": [
        "test_data= process_test_data()\n",
        "#test_data"
      ],
      "execution_count": null,
      "outputs": []
    },
    {
      "cell_type": "markdown",
      "metadata": {
        "id": "SAPVeH6gKl37"
      },
      "source": [
        "##Make matplot understand cv2 for testelements"
      ]
    },
    {
      "cell_type": "code",
      "metadata": {
        "id": "FufUImM7ExnA"
      },
      "source": [
        "Testf=[]\n",
        "TestfM=[]\n",
        "for i in range(len(test_data)):\n",
        "  Testf.append(test_data[i][0])\n",
        "  TestfM.append(cv2.cvtColor(Testf[i], cv2.COLOR_BGR2RGB))"
      ],
      "execution_count": null,
      "outputs": []
    },
    {
      "cell_type": "markdown",
      "metadata": {
        "id": "xajDXs0IhJff"
      },
      "source": [
        "##convert 1 => Ripe & 0 => Unripe"
      ]
    },
    {
      "cell_type": "code",
      "metadata": {
        "id": "cZODYgYfgBUZ"
      },
      "source": [
        "kind = {'Ripe':1 ,'Unripe':0}\n",
        "\n",
        "def getkind(n) : \n",
        "    for x , y in kind.items() : \n",
        "        if n == y : \n",
        "            return x"
      ],
      "execution_count": null,
      "outputs": []
    },
    {
      "cell_type": "markdown",
      "metadata": {
        "id": "bblJGrJYNEm8"
      },
      "source": [
        "##Plot train data"
      ]
    },
    {
      "cell_type": "code",
      "metadata": {
        "id": "a1KY4pbsoER3"
      },
      "source": [
        "#plt.figure(figsize=(20,20))\n",
        "#for n , i in enumerate(list(np.random.randint(0,len(train_data),12))) : \n",
        "    #plt.subplot(6,6,n+1)\n",
        "    #plt.imshow(TrainfM[i])   \n",
        "    #plt.axis('off')\n",
        "    #plt.title(getkind(train_data[i][1]))"
      ],
      "execution_count": null,
      "outputs": []
    },
    {
      "cell_type": "markdown",
      "metadata": {
        "id": "13Mf3MTSNKyg"
      },
      "source": [
        "##Plot test data"
      ]
    },
    {
      "cell_type": "code",
      "metadata": {
        "id": "syKVJkj3ufQU"
      },
      "source": [
        "#plt.figure(figsize=(20,20))\n",
        "#for n , i in enumerate(list(np.random.randint(0,len(test_data),12))) : \n",
        "    #plt.subplot(6,6,n+1)\n",
        "    #plt.imshow(TestfM[i])   \n",
        "    #plt.axis('off')\n",
        "    #plt.title(getkind(test_data[i][1]))"
      ],
      "execution_count": null,
      "outputs": []
    },
    {
      "cell_type": "markdown",
      "metadata": {
        "id": "5Jg0Rk6ZRGKe"
      },
      "source": [
        "##PREPARE DATA"
      ]
    },
    {
      "cell_type": "code",
      "metadata": {
        "id": "6N9BypXMJRzq"
      },
      "source": [
        "X_train = TrainfM[:-250]\n",
        "X_test = TrainfM[-250:]\n",
        "X_pred_array = TestfM\n",
        "y_train = trainl[:-250]\n",
        "y_test = trainl[-250:]\n",
        "#--------------------------------\n",
        "X_train= np.array(X_train)\n",
        "X_test=np.array(X_test)\n",
        "X_pred_array=np.array(X_pred_array)\n",
        "y_train=np.array(y_train)\n",
        "y_test=np.array(y_test)\n",
        "#---------------------------------\n",
        "print(f'X_train shape  is {X_train.shape}')\n",
        "print(f'X_test shape  is {X_test.shape}')\n",
        "print(f'X_pred shape  is {X_pred_array.shape}')\n",
        "print(f'y_train shape  is {y_train.shape}')\n",
        "print(f'y_test shape  is {y_test.shape}')"
      ],
      "execution_count": null,
      "outputs": []
    },
    {
      "cell_type": "markdown",
      "metadata": {
        "id": "OcrAaXoyROPc"
      },
      "source": [
        "##((-$ OUR MODEL $-))\n"
      ]
    },
    {
      "cell_type": "code",
      "metadata": {
        "id": "F1hdnJ8pRYR8"
      },
      "source": [
        "KerasModel = keras.models.Sequential([\n",
        "        keras.layers.Conv2D(200,kernel_size=(3,3),activation='relu',input_shape=(IMG_SIZE,IMG_SIZE,3)),\n",
        "        keras.layers.Conv2D(150,kernel_size=(3,3),activation='relu'),\n",
        "        keras.layers.MaxPool2D(4,4),\n",
        "        keras.layers.Conv2D(120,kernel_size=(3,3),activation='relu'),    \n",
        "        keras.layers.Conv2D(80,kernel_size=(3,3),activation='relu'),    \n",
        "        keras.layers.Conv2D(50,kernel_size=(3,3),activation='relu'),\n",
        "        keras.layers.MaxPool2D(4,4),\n",
        "        keras.layers.Flatten() ,    \n",
        "        keras.layers.Dense(120,activation='relu') ,    \n",
        "        keras.layers.Dense(100,activation='relu') ,    \n",
        "        keras.layers.Dense(50,activation='relu') ,        \n",
        "        keras.layers.Dropout(rate=0.5) ,            \n",
        "        keras.layers.Dense(6,activation='softmax') ,    \n",
        "        ])"
      ],
      "execution_count": null,
      "outputs": []
    },
    {
      "cell_type": "code",
      "metadata": {
        "id": "Mi_YFsLjR2Oj"
      },
      "source": [
        "KerasModel.compile(optimizer ='adam',loss='sparse_categorical_crossentropy',metrics=['accuracy'])"
      ],
      "execution_count": null,
      "outputs": []
    },
    {
      "cell_type": "code",
      "metadata": {
        "id": "gpccjP6WSCe0"
      },
      "source": [
        "print('Model Details are : ')\n",
        "print(KerasModel.summary())"
      ],
      "execution_count": null,
      "outputs": []
    },
    {
      "cell_type": "code",
      "metadata": {
        "id": "R38wjSVISGH7"
      },
      "source": [
        "epochs=20\n",
        "ThisModel = KerasModel.fit(X_train,y_train, epochs=epochs,batch_size=64,verbose=1)"
      ],
      "execution_count": null,
      "outputs": []
    },
    {
      "cell_type": "code",
      "metadata": {
        "id": "gelriSvJqY4W"
      },
      "source": [
        "ModelLoss, ModelAccuracy = KerasModel.evaluate(X_test, y_test)\n",
        "\n",
        "print('Test Loss is {}'.format(ModelLoss))\n",
        "print('Test Accuracy is {}'.format(ModelAccuracy ))"
      ],
      "execution_count": null,
      "outputs": []
    },
    {
      "cell_type": "code",
      "metadata": {
        "id": "7ncQdrCcur3j"
      },
      "source": [
        "y_pred = KerasModel.predict(X_test)\n",
        "\n",
        "print('Prediction Shape is {}'.format(y_pred.shape))"
      ],
      "execution_count": null,
      "outputs": []
    },
    {
      "cell_type": "code",
      "metadata": {
        "id": "9oy8-bVHu01a"
      },
      "source": [
        "y_result = KerasModel.predict(X_pred_array)\n",
        "\n",
        "print('Prediction Shape is {}'.format(y_result.shape))"
      ],
      "execution_count": null,
      "outputs": []
    },
    {
      "cell_type": "code",
      "metadata": {
        "id": "2RsdYR6Du4ci"
      },
      "source": [
        "plt.figure(figsize=(20,20))\n",
        "for n , i in enumerate(list(np.random.randint(0,len(X_pred_array),36))) : \n",
        "    plt.subplot(6,6,n+1)\n",
        "    plt.imshow(X_pred_array[i])    \n",
        "    plt.axis('off')\n",
        "    plt.title(getkind(np.argmax(y_result[i])))"
      ],
      "execution_count": null,
      "outputs": []
    },
    {
      "cell_type": "code",
      "metadata": {
        "id": "t7dL3BnQvVTx"
      },
      "source": [
        ""
      ],
      "execution_count": null,
      "outputs": []
    }
  ]
}